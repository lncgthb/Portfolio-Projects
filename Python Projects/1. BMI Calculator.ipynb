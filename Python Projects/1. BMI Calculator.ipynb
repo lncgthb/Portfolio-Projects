{
 "cells": [
  {
   "cell_type": "markdown",
   "id": "85081d46-45b5-4a3f-8579-336a1bd7b52b",
   "metadata": {},
   "source": [
    "# BMI Calculator"
   ]
  },
  {
   "cell_type": "code",
   "execution_count": 1,
   "id": "4db89ae4-43a2-48a0-b84a-8d15d9ab9398",
   "metadata": {},
   "outputs": [],
   "source": [
    "# L's Way"
   ]
  },
  {
   "cell_type": "code",
   "execution_count": 2,
   "id": "fc7523e7-84c0-4243-a3e9-5b598979d042",
   "metadata": {},
   "outputs": [
    {
     "name": "stdin",
     "output_type": "stream",
     "text": [
      "What is your weight in kg?  100\n",
      "What is you height in m?  69\n"
     ]
    },
    {
     "name": "stdout",
     "output_type": "stream",
     "text": [
      "100\n"
     ]
    }
   ],
   "source": [
    "x = input(\"What is your weight in kg? \")\n",
    "y = input(\"What is you height in m? \")\n",
    "print(x)"
   ]
  },
  {
   "cell_type": "code",
   "execution_count": 3,
   "id": "9aecffa8-1056-4848-9c8c-013105e5ed02",
   "metadata": {},
   "outputs": [],
   "source": [
    "# for Metric"
   ]
  },
  {
   "cell_type": "code",
   "execution_count": 5,
   "id": "e93ae907-eb00-4bf6-bca7-4ad218b8c59f",
   "metadata": {},
   "outputs": [
    {
     "name": "stdin",
     "output_type": "stream",
     "text": [
      "Is your Unit of Conversion in Imperial? (Y/N) N\n",
      "What is your weight in kg?  100\n",
      "What is you height in m?  1.5\n"
     ]
    },
    {
     "name": "stdout",
     "output_type": "stream",
     "text": [
      "Your BMI is 44.44444444444444\n"
     ]
    }
   ],
   "source": [
    "def BMI():\n",
    "    a = input(\"Is your Unit of Conversion in Imperial? (Y/N)\")\n",
    "    if a == \"Y\":\n",
    "        x = input(\"What is your weight in lb? \")\n",
    "        y = input(\"What is you height in in? \")\n",
    "        bmi = (703 * float(x)) / (float(y) * float(y))\n",
    "        print(\"Your BMI is\", bmi)\n",
    "    else:   \n",
    "        x = input(\"What is your weight in kg? \")\n",
    "        y = input(\"What is you height in m? \")\n",
    "        bmi = float(x) / (float(y) * float(y))\n",
    "        print(\"Your BMI is\", bmi)\n",
    "\n",
    "BMI()"
   ]
  },
  {
   "cell_type": "code",
   "execution_count": 6,
   "id": "0a559a9b-e5b8-48fb-bdbb-c24277195f40",
   "metadata": {},
   "outputs": [],
   "source": [
    "# for Imperial"
   ]
  },
  {
   "cell_type": "code",
   "execution_count": 7,
   "id": "1126be49-20aa-4ded-a6cb-4c3fd914eabb",
   "metadata": {},
   "outputs": [
    {
     "name": "stdin",
     "output_type": "stream",
     "text": [
      "Is your Unit of Conversion in Imperial? (Y/N) Y\n",
      "What is your weight in lb?  200\n",
      "What is you height in in?  69\n"
     ]
    },
    {
     "name": "stdout",
     "output_type": "stream",
     "text": [
      "Your BMI is 29.531611006091158\n"
     ]
    }
   ],
   "source": [
    "BMI()"
   ]
  },
  {
   "cell_type": "code",
   "execution_count": null,
   "id": "3976f9df-79d6-4f3c-9b57-e8aef46dfdb1",
   "metadata": {},
   "outputs": [],
   "source": []
  },
  {
   "cell_type": "code",
   "execution_count": 8,
   "id": "fee1d8b7-c463-4a38-9847-4879804183dc",
   "metadata": {},
   "outputs": [],
   "source": [
    "# Alex's Way"
   ]
  },
  {
   "cell_type": "code",
   "execution_count": 9,
   "id": "05eb0f1c-6dc1-4c14-a8b4-3900a6edb916",
   "metadata": {},
   "outputs": [],
   "source": [
    "# BMI = (weight in pounds x 703) / (height in inches x height in inches)\n",
    "\n",
    "# Under 18.5 = Underweight = Minimal Risk\n",
    "# 18.5 - 24.9 = Normal Weight = Minimal Risk\n",
    "# 25 - 29.9 = Overweight = Increased Risk\n",
    "# 30 - 34.9 = Obese = High Risk \n",
    "# 35 - 39.9 = Severely Obese = Very High Risk\n",
    "# 40 and over = Morbidly Obese = Extremely High Risk"
   ]
  },
  {
   "cell_type": "code",
   "execution_count": 10,
   "id": "6c24c57f-6f61-4e69-886b-7b914601b90c",
   "metadata": {},
   "outputs": [
    {
     "name": "stdin",
     "output_type": "stream",
     "text": [
      "Enter your name:  Alex\n",
      "Enter your weight in pounds:  170\n",
      "Enter your height in inches:  69\n"
     ]
    },
    {
     "name": "stdout",
     "output_type": "stream",
     "text": [
      "25.101869355177485\n",
      "Alex, you are overweight.\n"
     ]
    }
   ],
   "source": [
    "name = input(\"Enter your name: \")\n",
    "weight = float(input(\"Enter your weight in pounds: \"))\n",
    "height = float(input(\"Enter your height in inches: \" ))\n",
    "\n",
    "BMI = (weight * 703) / (height ** 2)\n",
    "print(BMI)\n",
    "\n",
    "if BMI > 0:\n",
    "    if BMI < 18.5:\n",
    "        print(name + \", you are underweight.\")\n",
    "    elif BMI <= 24.9:\n",
    "        print(name + \", you are normal weight.\")\n",
    "    elif BMI <= 29.9:\n",
    "        print(name + \", you are overweight.\")\n",
    "    elif BMI <= 34.9:\n",
    "        print(name + \", you are obese.\")\n",
    "    elif BMI <= 39.9:\n",
    "        print(name + \", you are severely obese.\")\n",
    "    else:\n",
    "        print(name + \", you are morbidly obese.\")\n",
    "else:\n",
    "    print(\"Enter valid inputs.\")"
   ]
  },
  {
   "cell_type": "code",
   "execution_count": 11,
   "id": "6313f7ac-5f34-4cc2-8741-020596b4556c",
   "metadata": {},
   "outputs": [
    {
     "name": "stdin",
     "output_type": "stream",
     "text": [
      "Enter your name:  L\n",
      "Enter your weight in pounds:  200\n",
      "Enter your height in inches:  69\n"
     ]
    },
    {
     "name": "stdout",
     "output_type": "stream",
     "text": [
      "29.531611006091158\n",
      "L, you are overweight.\n"
     ]
    }
   ],
   "source": [
    "name = input(\"Enter your name: \")\n",
    "weight = float(input(\"Enter your weight in pounds: \"))\n",
    "height = float(input(\"Enter your height in inches: \" ))\n",
    "\n",
    "BMI = (weight * 703) / (height ** 2)\n",
    "print(BMI)\n",
    "\n",
    "if BMI > 0:\n",
    "    if BMI < 18.5:\n",
    "        print(name + \", you are underweight.\")\n",
    "    elif BMI <= 24.9:\n",
    "        print(name + \", you are normal weight.\")\n",
    "    elif BMI <= 29.9:\n",
    "        print(name + \", you are overweight.\")\n",
    "    elif BMI <= 34.9:\n",
    "        print(name + \", you are obese.\")\n",
    "    elif BMI <= 39.9:\n",
    "        print(name + \", you are severely obese.\")\n",
    "    else:\n",
    "        print(name + \", you are morbidly obese.\")\n",
    "else:\n",
    "    print(\"Enter valid inputs.\")"
   ]
  },
  {
   "cell_type": "code",
   "execution_count": null,
   "id": "09d502a2-eaad-44df-b5ca-fa151e6f952f",
   "metadata": {},
   "outputs": [],
   "source": []
  }
 ],
 "metadata": {
  "kernelspec": {
   "display_name": "Python 3 (ipykernel)",
   "language": "python",
   "name": "python3"
  },
  "language_info": {
   "codemirror_mode": {
    "name": "ipython",
    "version": 3
   },
   "file_extension": ".py",
   "mimetype": "text/x-python",
   "name": "python",
   "nbconvert_exporter": "python",
   "pygments_lexer": "ipython3",
   "version": "3.12.7"
  }
 },
 "nbformat": 4,
 "nbformat_minor": 5
}
