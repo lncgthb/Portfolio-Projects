{
 "cells": [
  {
   "cell_type": "markdown",
   "id": "a3e9b703-779a-49e8-9ff5-f8ce795c57ed",
   "metadata": {},
   "source": [
    "# Automatic File Sorter in File Explorer"
   ]
  },
  {
   "cell_type": "code",
   "execution_count": 1,
   "id": "96fff091-88ef-4ba1-857b-8938f27edb3f",
   "metadata": {},
   "outputs": [],
   "source": [
    "# os = operating system\n",
    "# shutil = shell utilities\n",
    "\n",
    "import os, shutil"
   ]
  },
  {
   "cell_type": "code",
   "execution_count": 2,
   "id": "735f815c-7a23-42a2-a64d-9c02b1e3005d",
   "metadata": {},
   "outputs": [],
   "source": [
    "# r = raw text\n",
    "\n",
    "path = r\"PATH FOLDER\""
   ]
  },
  {
   "cell_type": "code",
   "execution_count": 3,
   "id": "1c9dc671-91ba-4460-8a7f-744f4c8ffc1d",
   "metadata": {},
   "outputs": [],
   "source": [
    "# are there folders already?\n",
    "# identify the type of file and put it in the correct folder."
   ]
  },
  {
   "cell_type": "code",
   "execution_count": 4,
   "id": "5109f30b-195b-4489-9c73-0c137cff7aa0",
   "metadata": {},
   "outputs": [
    {
     "name": "stdout",
     "output_type": "stream",
     "text": [
      "['New Bitmap Image.png', 'New Bitmap Image2.png', 'New Microsoft Excel Worksheet.csv', 'New Text Document.txt']\n"
     ]
    }
   ],
   "source": [
    "# show all the files in the path.\n",
    "\n",
    "file_name = os.listdir(path)\n",
    "print(file_name)"
   ]
  },
  {
   "cell_type": "code",
   "execution_count": 6,
   "id": "12240bcc-08fd-4630-b0d9-c4364f6cf855",
   "metadata": {},
   "outputs": [],
   "source": [
    "# are there folders already? if not, create a folder.\n",
    "\n",
    "folder_names = [\"csv files\", \"image files\", \"text files\"]\n",
    "\n",
    "for loop in range(0,3):\n",
    "    if not os.path.exists(path + folder_names[loop]):\n",
    "        # print(path + folder_names[loop])\n",
    "        os.makedirs(path + folder_names[loop])"
   ]
  },
  {
   "cell_type": "code",
   "execution_count": 7,
   "id": "134a4d9b-df01-44ee-9e06-b95f1c9871bf",
   "metadata": {},
   "outputs": [],
   "source": [
    "# check files and move them to the appropriate place.\n",
    "\n",
    "for file in file_name:\n",
    "    if \".csv\" in file and not os.path.exists(path + \"csv files/\" + file): \n",
    "        shutil.move(path + file, path + \"csv files/\" + file) # (original path, correct folder path)\n",
    "    elif \".png\" in file and not os.path.exists(path + \"image files/\" + file):\n",
    "        shutil.move(path + file, path + \"image files/\" + file) # (original path, correct folder path)\n",
    "    elif \".txt\" in file and not os.path.exists(path + \"text files/\" + file):\n",
    "        shutil.move(path + file, path + \"text files/\" + file) # (original path, correct folder path)"
   ]
  },
  {
   "cell_type": "markdown",
   "id": "6d20b098-3a90-4d4f-8933-5d3a0061c770",
   "metadata": {},
   "source": [
    "##### THIS AUTOMATION MUST RUN FROM THE FIRST LINE OF CODE (import) to THE LAST MOVING FILE."
   ]
  },
  {
   "cell_type": "code",
   "execution_count": 8,
   "id": "1d8a50d8-6d2b-4751-bae7-4dda9c81b62f",
   "metadata": {},
   "outputs": [],
   "source": [
    "##### THIS AUTOMATION MUST RUN FROM THE FIRST LINE OF CODE (import) to THE LAST MOVING FILE."
   ]
  },
  {
   "cell_type": "code",
   "execution_count": null,
   "id": "9693dad7-162f-4c17-b6be-cd011f234713",
   "metadata": {},
   "outputs": [],
   "source": []
  }
 ],
 "metadata": {
  "kernelspec": {
   "display_name": "Python 3 (ipykernel)",
   "language": "python",
   "name": "python3"
  },
  "language_info": {
   "codemirror_mode": {
    "name": "ipython",
    "version": 3
   },
   "file_extension": ".py",
   "mimetype": "text/x-python",
   "name": "python",
   "nbconvert_exporter": "python",
   "pygments_lexer": "ipython3",
   "version": "3.12.7"
  }
 },
 "nbformat": 4,
 "nbformat_minor": 5
}
